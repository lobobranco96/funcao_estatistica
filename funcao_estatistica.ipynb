{
 "cells": [
  {
   "cell_type": "code",
   "execution_count": 27,
   "id": "364465d3",
   "metadata": {},
   "outputs": [
    {
     "name": "stdout",
     "output_type": "stream",
     "text": [
      "A media é: 7.30\n",
      "O desvio é: ['2.70', '2.50', '0.90', '0.30', '0.10', '0.30', '0.80', '0.80', '2.00', '2.60']\n",
      "O desvio medio absoluto é: 1.3\n",
      "A variancia é: 2.66\n",
      "O desvio padrão é: 1.63\n"
     ]
    }
   ],
   "source": [
    "def estatistica(*args):\n",
    "    #funçao para saber a media, desvio, desvio medio absoluto, variancia e desvio padrao\n",
    "    soma = 0\n",
    "    # o args vai armazenar os numeros digitados\n",
    "    for i in args:   # irá iterar por cada valor armazenado do args e somará o proximo pelo interior\n",
    "        soma = soma + i\n",
    "    media = soma / len(args)  # armazenará na variavel media o valor final da variavel soma e dividira pela quantidade de numeros armazenado no args\n",
    "    print('A media é: {:.2f}'.format(media))\n",
    "\n",
    "    lista_desvio = [] # armazenara o desvio que é a diferença de cada numero do args e a media\n",
    "    for i in args:\n",
    "        desvio = i - media\n",
    "        lista_desvio.append(abs(desvio)) # funcao abs transformara todos os numeros adicionados a lista pelo append em numeros positivos\n",
    "    l_desvio = [\"%.2f\" % n for n in lista_desvio]\n",
    "    print(f'O desvio é: {l_desvio}')\n",
    "\n",
    "\n",
    "    soma_desvio = 0\n",
    "    for i in lista_desvio:\n",
    "        soma_desvio = soma_desvio + i # irá iterar por cada numero da lista_desvio e somará\n",
    "    d_medio_absoluto = soma_desvio / len(lista_desvio) # variavel para o calculo do desvio medio absoluto que é a soma de todos os desvios divido pela quantidade de numeros na lista_desvio\n",
    "    print(f'O desvio medio absoluto é: {d_medio_absoluto}')\n",
    "\n",
    "    lista_quadrado = []\n",
    "    for i in lista_desvio:\n",
    "        quadrado = i * i\n",
    "        lista_quadrado.append(quadrado)\n",
    "    soma_quadrado = 0\n",
    "    for i in lista_quadrado:\n",
    "        soma_quadrado = soma_quadrado + i\n",
    "    variancia = soma_quadrado / len(lista_quadrado)\n",
    "    print('A variancia é: {:.2f}'.format(variancia))\n",
    "\n",
    "    desvio_padrao = float(variancia) ** 0.5\n",
    "    print('O desvio padrão é: {:.2f}'.format(desvio_padrao))\n",
    "\n",
    "\n",
    "estatistica(10, 9.8, 8.2, 7.6, 7.4, 7, 6.5, 6.5, 5.3, 4.7)"
   ]
  },
  {
   "cell_type": "code",
   "execution_count": null,
   "id": "b837184f",
   "metadata": {},
   "outputs": [],
   "source": []
  }
 ],
 "metadata": {
  "kernelspec": {
   "display_name": "Python 3 (ipykernel)",
   "language": "python",
   "name": "python3"
  },
  "language_info": {
   "codemirror_mode": {
    "name": "ipython",
    "version": 3
   },
   "file_extension": ".py",
   "mimetype": "text/x-python",
   "name": "python",
   "nbconvert_exporter": "python",
   "pygments_lexer": "ipython3",
   "version": "3.10.9"
  }
 },
 "nbformat": 4,
 "nbformat_minor": 5
}
